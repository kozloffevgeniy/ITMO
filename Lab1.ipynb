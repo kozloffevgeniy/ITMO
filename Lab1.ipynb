{
 "cells": [
  {
   "cell_type": "code",
   "execution_count": 1,
   "metadata": {},
   "outputs": [],
   "source": [
    "import pandas as pd"
   ]
  },
  {
   "cell_type": "code",
   "execution_count": 9,
   "metadata": {},
   "outputs": [],
   "source": [
    "negative_df = pd.read_csv('negative.csv', names=['id', 'tdate', 'tmane', 'ttext', 'ttype', 'trep', 'trtv', 'tfav', 'tstcount', 'tfol', 'fien', 'listcount'], delimiter=';')\n",
    "positive_df = pd.read_csv('positive.csv', names=['id', 'tdate', 'tmane', 'ttext', 'ttype', 'trep', 'trtv', 'tfav', 'tstcount', 'tfol', 'fien', 'listcount'], delimiter=';')"
   ]
  },
  {
   "cell_type": "code",
   "execution_count": 10,
   "metadata": {},
   "outputs": [
    {
     "data": {
      "text/html": [
       "<div>\n",
       "<style scoped>\n",
       "    .dataframe tbody tr th:only-of-type {\n",
       "        vertical-align: middle;\n",
       "    }\n",
       "\n",
       "    .dataframe tbody tr th {\n",
       "        vertical-align: top;\n",
       "    }\n",
       "\n",
       "    .dataframe thead th {\n",
       "        text-align: right;\n",
       "    }\n",
       "</style>\n",
       "<table border=\"1\" class=\"dataframe\">\n",
       "  <thead>\n",
       "    <tr style=\"text-align: right;\">\n",
       "      <th></th>\n",
       "      <th>id</th>\n",
       "      <th>tdate</th>\n",
       "      <th>tmane</th>\n",
       "      <th>ttext</th>\n",
       "      <th>ttype</th>\n",
       "      <th>trep</th>\n",
       "      <th>trtv</th>\n",
       "      <th>tfav</th>\n",
       "      <th>tstcount</th>\n",
       "      <th>tfol</th>\n",
       "      <th>fien</th>\n",
       "      <th>listcount</th>\n",
       "    </tr>\n",
       "  </thead>\n",
       "  <tbody>\n",
       "    <tr>\n",
       "      <th>0</th>\n",
       "      <td>408906762813579264</td>\n",
       "      <td>1386325944</td>\n",
       "      <td>dugarchikbellko</td>\n",
       "      <td>на работе был полный пиддес :| и так каждое за...</td>\n",
       "      <td>-1</td>\n",
       "      <td>0</td>\n",
       "      <td>0</td>\n",
       "      <td>0</td>\n",
       "      <td>8064</td>\n",
       "      <td>111</td>\n",
       "      <td>94</td>\n",
       "      <td>2</td>\n",
       "    </tr>\n",
       "    <tr>\n",
       "      <th>1</th>\n",
       "      <td>408906818262687744</td>\n",
       "      <td>1386325957</td>\n",
       "      <td>nugemycejela</td>\n",
       "      <td>Коллеги сидят рубятся в Urban terror, а я из-з...</td>\n",
       "      <td>-1</td>\n",
       "      <td>0</td>\n",
       "      <td>0</td>\n",
       "      <td>0</td>\n",
       "      <td>26</td>\n",
       "      <td>42</td>\n",
       "      <td>39</td>\n",
       "      <td>0</td>\n",
       "    </tr>\n",
       "    <tr>\n",
       "      <th>2</th>\n",
       "      <td>408906858515398656</td>\n",
       "      <td>1386325966</td>\n",
       "      <td>4post21</td>\n",
       "      <td>@elina_4post как говорят обещаного три года жд...</td>\n",
       "      <td>-1</td>\n",
       "      <td>0</td>\n",
       "      <td>0</td>\n",
       "      <td>0</td>\n",
       "      <td>718</td>\n",
       "      <td>49</td>\n",
       "      <td>249</td>\n",
       "      <td>0</td>\n",
       "    </tr>\n",
       "    <tr>\n",
       "      <th>3</th>\n",
       "      <td>408906914437685248</td>\n",
       "      <td>1386325980</td>\n",
       "      <td>Poliwake</td>\n",
       "      <td>Желаю хорошего полёта и удачной посадки,я буду...</td>\n",
       "      <td>-1</td>\n",
       "      <td>0</td>\n",
       "      <td>0</td>\n",
       "      <td>0</td>\n",
       "      <td>10628</td>\n",
       "      <td>207</td>\n",
       "      <td>200</td>\n",
       "      <td>0</td>\n",
       "    </tr>\n",
       "    <tr>\n",
       "      <th>4</th>\n",
       "      <td>408906914723295232</td>\n",
       "      <td>1386325980</td>\n",
       "      <td>capyvixowe</td>\n",
       "      <td>Обновил за каким-то лешим surf, теперь не рабо...</td>\n",
       "      <td>-1</td>\n",
       "      <td>0</td>\n",
       "      <td>0</td>\n",
       "      <td>0</td>\n",
       "      <td>35</td>\n",
       "      <td>17</td>\n",
       "      <td>34</td>\n",
       "      <td>0</td>\n",
       "    </tr>\n",
       "  </tbody>\n",
       "</table>\n",
       "</div>"
      ],
      "text/plain": [
       "                   id       tdate            tmane  \\\n",
       "0  408906762813579264  1386325944  dugarchikbellko   \n",
       "1  408906818262687744  1386325957     nugemycejela   \n",
       "2  408906858515398656  1386325966          4post21   \n",
       "3  408906914437685248  1386325980         Poliwake   \n",
       "4  408906914723295232  1386325980       capyvixowe   \n",
       "\n",
       "                                               ttext  ttype  trep  trtv  tfav  \\\n",
       "0  на работе был полный пиддес :| и так каждое за...     -1     0     0     0   \n",
       "1  Коллеги сидят рубятся в Urban terror, а я из-з...     -1     0     0     0   \n",
       "2  @elina_4post как говорят обещаного три года жд...     -1     0     0     0   \n",
       "3  Желаю хорошего полёта и удачной посадки,я буду...     -1     0     0     0   \n",
       "4  Обновил за каким-то лешим surf, теперь не рабо...     -1     0     0     0   \n",
       "\n",
       "   tstcount  tfol  fien  listcount  \n",
       "0      8064   111    94          2  \n",
       "1        26    42    39          0  \n",
       "2       718    49   249          0  \n",
       "3     10628   207   200          0  \n",
       "4        35    17    34          0  "
      ]
     },
     "execution_count": 10,
     "metadata": {},
     "output_type": "execute_result"
    }
   ],
   "source": [
    "negative_df.head()"
   ]
  },
  {
   "cell_type": "code",
   "execution_count": 11,
   "metadata": {},
   "outputs": [
    {
     "data": {
      "text/html": [
       "<div>\n",
       "<style scoped>\n",
       "    .dataframe tbody tr th:only-of-type {\n",
       "        vertical-align: middle;\n",
       "    }\n",
       "\n",
       "    .dataframe tbody tr th {\n",
       "        vertical-align: top;\n",
       "    }\n",
       "\n",
       "    .dataframe thead th {\n",
       "        text-align: right;\n",
       "    }\n",
       "</style>\n",
       "<table border=\"1\" class=\"dataframe\">\n",
       "  <thead>\n",
       "    <tr style=\"text-align: right;\">\n",
       "      <th></th>\n",
       "      <th>id</th>\n",
       "      <th>tdate</th>\n",
       "      <th>tmane</th>\n",
       "      <th>ttext</th>\n",
       "      <th>ttype</th>\n",
       "      <th>trep</th>\n",
       "      <th>trtv</th>\n",
       "      <th>tfav</th>\n",
       "      <th>tstcount</th>\n",
       "      <th>tfol</th>\n",
       "      <th>fien</th>\n",
       "      <th>listcount</th>\n",
       "    </tr>\n",
       "  </thead>\n",
       "  <tbody>\n",
       "    <tr>\n",
       "      <th>0</th>\n",
       "      <td>408906692374446080</td>\n",
       "      <td>1386325927</td>\n",
       "      <td>pleease_shut_up</td>\n",
       "      <td>@first_timee хоть я и школота, но поверь, у на...</td>\n",
       "      <td>1</td>\n",
       "      <td>0</td>\n",
       "      <td>0</td>\n",
       "      <td>0</td>\n",
       "      <td>7569</td>\n",
       "      <td>62</td>\n",
       "      <td>61</td>\n",
       "      <td>0</td>\n",
       "    </tr>\n",
       "    <tr>\n",
       "      <th>1</th>\n",
       "      <td>408906692693221377</td>\n",
       "      <td>1386325927</td>\n",
       "      <td>alinakirpicheva</td>\n",
       "      <td>Да, все-таки он немного похож на него. Но мой ...</td>\n",
       "      <td>1</td>\n",
       "      <td>0</td>\n",
       "      <td>0</td>\n",
       "      <td>0</td>\n",
       "      <td>11825</td>\n",
       "      <td>59</td>\n",
       "      <td>31</td>\n",
       "      <td>2</td>\n",
       "    </tr>\n",
       "    <tr>\n",
       "      <th>2</th>\n",
       "      <td>408906695083954177</td>\n",
       "      <td>1386325927</td>\n",
       "      <td>EvgeshaRe</td>\n",
       "      <td>RT @KatiaCheh: Ну ты идиотка) я испугалась за ...</td>\n",
       "      <td>1</td>\n",
       "      <td>0</td>\n",
       "      <td>1</td>\n",
       "      <td>0</td>\n",
       "      <td>1273</td>\n",
       "      <td>26</td>\n",
       "      <td>27</td>\n",
       "      <td>0</td>\n",
       "    </tr>\n",
       "    <tr>\n",
       "      <th>3</th>\n",
       "      <td>408906695356973056</td>\n",
       "      <td>1386325927</td>\n",
       "      <td>ikonnikova_21</td>\n",
       "      <td>RT @digger2912: \"Кто то в углу сидит и погибае...</td>\n",
       "      <td>1</td>\n",
       "      <td>0</td>\n",
       "      <td>1</td>\n",
       "      <td>0</td>\n",
       "      <td>1549</td>\n",
       "      <td>19</td>\n",
       "      <td>17</td>\n",
       "      <td>0</td>\n",
       "    </tr>\n",
       "    <tr>\n",
       "      <th>4</th>\n",
       "      <td>408906761416867842</td>\n",
       "      <td>1386325943</td>\n",
       "      <td>JumpyAlex</td>\n",
       "      <td>@irina_dyshkant Вот что значит страшилка :D\\nН...</td>\n",
       "      <td>1</td>\n",
       "      <td>0</td>\n",
       "      <td>0</td>\n",
       "      <td>0</td>\n",
       "      <td>597</td>\n",
       "      <td>16</td>\n",
       "      <td>23</td>\n",
       "      <td>1</td>\n",
       "    </tr>\n",
       "  </tbody>\n",
       "</table>\n",
       "</div>"
      ],
      "text/plain": [
       "                   id       tdate            tmane  \\\n",
       "0  408906692374446080  1386325927  pleease_shut_up   \n",
       "1  408906692693221377  1386325927  alinakirpicheva   \n",
       "2  408906695083954177  1386325927        EvgeshaRe   \n",
       "3  408906695356973056  1386325927    ikonnikova_21   \n",
       "4  408906761416867842  1386325943        JumpyAlex   \n",
       "\n",
       "                                               ttext  ttype  trep  trtv  tfav  \\\n",
       "0  @first_timee хоть я и школота, но поверь, у на...      1     0     0     0   \n",
       "1  Да, все-таки он немного похож на него. Но мой ...      1     0     0     0   \n",
       "2  RT @KatiaCheh: Ну ты идиотка) я испугалась за ...      1     0     1     0   \n",
       "3  RT @digger2912: \"Кто то в углу сидит и погибае...      1     0     1     0   \n",
       "4  @irina_dyshkant Вот что значит страшилка :D\\nН...      1     0     0     0   \n",
       "\n",
       "   tstcount  tfol  fien  listcount  \n",
       "0      7569    62    61          0  \n",
       "1     11825    59    31          2  \n",
       "2      1273    26    27          0  \n",
       "3      1549    19    17          0  \n",
       "4       597    16    23          1  "
      ]
     },
     "execution_count": 11,
     "metadata": {},
     "output_type": "execute_result"
    }
   ],
   "source": [
    "positive_df.head()"
   ]
  },
  {
   "cell_type": "markdown",
   "metadata": {},
   "source": [
    "2.\tВычислить сколько в среднем было ретвитов у позитивных и негативных  сообщений"
   ]
  },
  {
   "cell_type": "code",
   "execution_count": 12,
   "metadata": {},
   "outputs": [
    {
     "data": {
      "text/plain": [
       "2.0420199601511753"
      ]
     },
     "execution_count": 12,
     "metadata": {},
     "output_type": "execute_result"
    }
   ],
   "source": [
    "negative_df['trtv'].mean()"
   ]
  },
  {
   "cell_type": "code",
   "execution_count": 13,
   "metadata": {},
   "outputs": [
    {
     "data": {
      "text/plain": [
       "4.166494069323216"
      ]
     },
     "execution_count": 13,
     "metadata": {},
     "output_type": "execute_result"
    }
   ],
   "source": [
    "positive_df['trtv'].mean()"
   ]
  },
  {
   "cell_type": "code",
   "execution_count": 55,
   "metadata": {},
   "outputs": [
    {
     "name": "stdout",
     "output_type": "stream",
     "text": [
      "tmane\n",
      "00000Angelina00    2\n",
      "0001377715         1\n",
      "000Anyuta000       2\n",
      "000bred            1\n",
      "000netmeni         1\n",
      "                  ..\n",
      "zzzleshazzz        1\n",
      "zzzmortem          2\n",
      "zzzyroc            2\n",
      "zzzz257            1\n",
      "zzzzz245           1\n",
      "Name: ttext, Length: 80758, dtype: int64\n"
     ]
    },
    {
     "data": {
      "text/plain": [
       "count    80758.000000\n",
       "mean         1.385906\n",
       "std          1.158054\n",
       "min          1.000000\n",
       "25%          1.000000\n",
       "50%          1.000000\n",
       "75%          1.000000\n",
       "max         52.000000\n",
       "Name: id, dtype: float64"
      ]
     },
     "execution_count": 55,
     "metadata": {},
     "output_type": "execute_result"
    }
   ],
   "source": [
    "print(negative_df.groupby('tmane')['ttext'].count())\n",
    "negative_df.groupby('tmane')['ttext'].count().describe()"
   ]
  },
  {
   "cell_type": "markdown",
   "metadata": {},
   "source": [
    "3.\tВычислить количество слов предложений в каждом сообщении используя регулярные выражения: выделить в сообщении предложения, слова (токенизация), вычислить количество слов  "
   ]
  },
  {
   "cell_type": "code",
   "execution_count": 34,
   "metadata": {},
   "outputs": [],
   "source": [
    "import re"
   ]
  },
  {
   "cell_type": "code",
   "execution_count": 57,
   "metadata": {},
   "outputs": [],
   "source": [
    "x = negative_df['ttext'][0] + '.'"
   ]
  },
  {
   "cell_type": "code",
   "execution_count": 60,
   "metadata": {},
   "outputs": [
    {
     "data": {
      "text/plain": [
       "1"
      ]
     },
     "execution_count": 60,
     "metadata": {},
     "output_type": "execute_result"
    }
   ],
   "source": [
    "len(re.findall('\\.', x))"
   ]
  },
  {
   "cell_type": "code",
   "execution_count": 106,
   "metadata": {},
   "outputs": [
    {
     "data": {
      "text/plain": [
       "0    1\n",
       "1    1\n",
       "2    1\n",
       "3    1\n",
       "4    1\n",
       "Name: ttext, dtype: int64"
      ]
     },
     "execution_count": 106,
     "metadata": {},
     "output_type": "execute_result"
    }
   ],
   "source": [
    "#кол-во предложений в каждом тексте\n",
    "negative_df['ttext'].apply(lambda x: len(re.findall('[\\.\\!\\?]\\ ', x)) + 1).head()    "
   ]
  },
  {
   "cell_type": "code",
   "execution_count": 108,
   "metadata": {},
   "outputs": [
    {
     "data": {
      "text/plain": [
       "0    1\n",
       "1    2\n",
       "2    1\n",
       "3    1\n",
       "4    1\n",
       "Name: ttext, dtype: int64"
      ]
     },
     "execution_count": 108,
     "metadata": {},
     "output_type": "execute_result"
    }
   ],
   "source": [
    "positive_df['ttext'].apply(lambda x: len(re.findall('[\\.\\!\\?]\\ ', x)) + 1).head()   "
   ]
  },
  {
   "cell_type": "code",
   "execution_count": 109,
   "metadata": {},
   "outputs": [
    {
     "data": {
      "text/plain": [
       "0    15\n",
       "1    13\n",
       "2     6\n",
       "3    10\n",
       "4     9\n",
       "Name: ttext, dtype: int64"
      ]
     },
     "execution_count": 109,
     "metadata": {},
     "output_type": "execute_result"
    }
   ],
   "source": [
    "#Кол-во слов в предложении\n",
    "negative_df['ttext'].apply(lambda x: len(re.findall('\\ ', x))).head()    "
   ]
  },
  {
   "cell_type": "code",
   "execution_count": 110,
   "metadata": {},
   "outputs": [
    {
     "data": {
      "text/plain": [
       "0    16\n",
       "1    12\n",
       "2     8\n",
       "3    25\n",
       "4    15\n",
       "Name: ttext, dtype: int64"
      ]
     },
     "execution_count": 110,
     "metadata": {},
     "output_type": "execute_result"
    }
   ],
   "source": [
    "positive_df['ttext'].apply(lambda x: len(re.findall('\\ ', x))).head()    "
   ]
  },
  {
   "cell_type": "markdown",
   "metadata": {},
   "source": [
    "4.\tВыполнить токенизацию с использованием библиотеки NLTK "
   ]
  },
  {
   "cell_type": "code",
   "execution_count": 115,
   "metadata": {},
   "outputs": [],
   "source": [
    "from nltk.tokenize import word_tokenize\n",
    "import string\n",
    "translate_table = dict((ord(char), '') for char in string.punctuation)"
   ]
  },
  {
   "cell_type": "code",
   "execution_count": 119,
   "metadata": {},
   "outputs": [
    {
     "data": {
      "text/plain": [
       "0         [на, работе, был, полный, пиддес, и, так, кажд...\n",
       "1         [коллеги, сидят, рубятся, в, urban, terror, а,...\n",
       "2         [elina4post, как, говорят, обещаного, три, год...\n",
       "3         [желаю, хорошего, полёта, и, удачной, посадкия...\n",
       "4         [обновил, за, какимто, лешим, surf, теперь, не...\n",
       "                                ...                        \n",
       "111918    [но, не, каждый, хочет, что, то, исправлять, h...\n",
       "111919    [скучаю, так, только, taaannyaaa, вправляет, м...\n",
       "111920    [вот, и, в, школу, в, говно, это, идти, уже, н...\n",
       "111921    [rt, them, lisaberoud, тауриэль, не, грусти, о...\n",
       "111922    [такси, везет, меня, на, работу, раздумываю, п...\n",
       "Name: ttext, Length: 111923, dtype: object"
      ]
     },
     "execution_count": 119,
     "metadata": {},
     "output_type": "execute_result"
    }
   ],
   "source": [
    "negative_df['ttext'].apply(lambda x: word_tokenize(x.lower().translate(translate_table)))"
   ]
  },
  {
   "cell_type": "code",
   "execution_count": 118,
   "metadata": {},
   "outputs": [],
   "source": [
    "negative_df['tokens'] = negative_df['ttext'].apply(lambda x: word_tokenize(x.lower().translate(translate_table)))"
   ]
  },
  {
   "cell_type": "code",
   "execution_count": 120,
   "metadata": {},
   "outputs": [],
   "source": [
    "positive_df['tokens'] = positive_df['ttext'].apply(lambda x: word_tokenize(x.lower().translate(translate_table)))"
   ]
  },
  {
   "cell_type": "markdown",
   "metadata": {},
   "source": [
    "5.\tПривести слова к нормальной форме с использованием библиотеки pymorphy2 / pymystem3"
   ]
  },
  {
   "cell_type": "code",
   "execution_count": 121,
   "metadata": {},
   "outputs": [],
   "source": [
    "import pymorphy2\n",
    "morph = pymorphy2.MorphAnalyzer()"
   ]
  },
  {
   "cell_type": "code",
   "execution_count": 139,
   "metadata": {},
   "outputs": [
    {
     "name": "stdout",
     "output_type": "stream",
     "text": [
      "Wall time: 5.23 s\n"
     ]
    }
   ],
   "source": [
    "%%time\n",
    "def lemmatize(lst):\n",
    "    return [morph.parse(i)[0].normal_form for i in lst]\n",
    "negative_tokens = negative_df.head(1000)['tokens'].apply(lemmatize)\n",
    "positive_tokens = positive_df.head(1000)['tokens'].apply(lemmatize)"
   ]
  },
  {
   "cell_type": "code",
   "execution_count": 135,
   "metadata": {},
   "outputs": [],
   "source": [
    "import pymystem3"
   ]
  },
  {
   "cell_type": "code",
   "execution_count": 138,
   "metadata": {},
   "outputs": [
    {
     "data": {
      "text/plain": [
       "0     [firsttimee,  , хоть,  , я,  , и,  , школоть, ...\n",
       "1     [да,  , всетака,  , он,  , немного,  , похожий...\n",
       "2     [rt,  , katiacheh,  , ну,  , ты,  , идиотка,  ...\n",
       "3     [rt,  , digger2912,  , кто,  , то,  , в,  , уг...\n",
       "4     [irinadyshkant,  , вот,  , что,  , значить,  ,...\n",
       "                            ...                        \n",
       "95    [arinalen,   , ахи,  , тут,  , еще,  , у,  , о...\n",
       "96    [палец,  , совсем,  , отвыкать,  , от,  , гита...\n",
       "97    [в,  , 5,  , класс,  , быть,  , учиться,  , на...\n",
       "98    [ , ты,  , весь,  , время,  , работать,   , не...\n",
       "99    [romashkamarinka,  , maksimofficial,  , ясно, ...\n",
       "Name: ttext, Length: 100, dtype: object"
      ]
     },
     "execution_count": 138,
     "metadata": {},
     "output_type": "execute_result"
    }
   ],
   "source": [
    "from pymystem3 import Mystem\n",
    "\n",
    "m = Mystem()\n",
    "positive_df.head(100)['ttext'].apply(lambda x: m.lemmatize(x.lower().translate(translate_table)))"
   ]
  },
  {
   "cell_type": "markdown",
   "metadata": {},
   "source": [
    "6.\tНайти 10 самых частотных слов в положительном и негативном корпусах используя библиотеку NLTK."
   ]
  },
  {
   "cell_type": "code",
   "execution_count": 149,
   "metadata": {},
   "outputs": [
    {
     "data": {
      "text/plain": [
       "[('я', 511),\n",
       " ('не', 387),\n",
       " ('и', 282),\n",
       " ('в', 236),\n",
       " ('а', 175),\n",
       " ('что', 168),\n",
       " ('на', 159),\n",
       " ('rt', 131),\n",
       " ('быть', 124),\n",
       " ('так', 118)]"
      ]
     },
     "execution_count": 149,
     "metadata": {},
     "output_type": "execute_result"
    }
   ],
   "source": [
    "fdist_neg = nltk.FreqDist(negative_tokens.sum())\n",
    "fdist_neg.most_common(10)"
   ]
  },
  {
   "cell_type": "code",
   "execution_count": 150,
   "metadata": {},
   "outputs": [
    {
     "data": {
      "text/plain": [
       "[('я', 334),\n",
       " ('в', 292),\n",
       " ('и', 265),\n",
       " ('не', 242),\n",
       " ('на', 186),\n",
       " ('rt', 163),\n",
       " ('с', 143),\n",
       " ('что', 138),\n",
       " ('ты', 128),\n",
       " ('быть', 124)]"
      ]
     },
     "execution_count": 150,
     "metadata": {},
     "output_type": "execute_result"
    }
   ],
   "source": [
    "fdist_pos = nltk.FreqDist(positive_tokens.sum())\n",
    "fdist_pos.most_common(10)"
   ]
  },
  {
   "cell_type": "markdown",
   "metadata": {},
   "source": [
    "7.\tПостроить гистограмму распределения частот слов в позитивном и негативном корпусах "
   ]
  },
  {
   "cell_type": "code",
   "execution_count": 153,
   "metadata": {},
   "outputs": [
    {
     "data": {
      "text/plain": [
       "(array([3.912e+03, 4.500e+01, 1.600e+01, 1.100e+01, 3.000e+00, 0.000e+00,\n",
       "        3.000e+00, 4.000e+00, 1.000e+00, 1.000e+00, 2.000e+00, 0.000e+00,\n",
       "        0.000e+00, 0.000e+00, 1.000e+00, 0.000e+00, 0.000e+00, 1.000e+00,\n",
       "        0.000e+00, 0.000e+00, 0.000e+00, 0.000e+00, 0.000e+00, 0.000e+00,\n",
       "        1.000e+00, 0.000e+00, 0.000e+00, 0.000e+00, 0.000e+00, 0.000e+00,\n",
       "        0.000e+00, 1.000e+00]),\n",
       " array([  1.    ,  16.9375,  32.875 ,  48.8125,  64.75  ,  80.6875,\n",
       "         96.625 , 112.5625, 128.5   , 144.4375, 160.375 , 176.3125,\n",
       "        192.25  , 208.1875, 224.125 , 240.0625, 256.    , 271.9375,\n",
       "        287.875 , 303.8125, 319.75  , 335.6875, 351.625 , 367.5625,\n",
       "        383.5   , 399.4375, 415.375 , 431.3125, 447.25  , 463.1875,\n",
       "        479.125 , 495.0625, 511.    ]),\n",
       " <BarContainer object of 32 artists>)"
      ]
     },
     "execution_count": 153,
     "metadata": {},
     "output_type": "execute_result"
    },
    {
     "data": {
      "image/png": "[encoded data removed]",
      "text/plain": [
       "<Figure size 432x288 with 1 Axes>"
      ]
     },
     "metadata": {
      "needs_background": "light"
     },
     "output_type": "display_data"
    }
   ],
   "source": [
    "from matplotlib import pyplot as plt\n",
    "\n",
    "plt.hist(fdist_neg.values(), bins='rice')"
   ]
  },
  {
   "cell_type": "code",
   "execution_count": 154,
   "metadata": {},
   "outputs": [
    {
     "data": {
      "text/plain": [
       "(array([4.619e+03, 4.700e+01, 2.000e+01, 1.400e+01, 8.000e+00, 6.000e+00,\n",
       "        1.000e+00, 2.000e+00, 1.000e+00, 2.000e+00, 2.000e+00, 1.000e+00,\n",
       "        2.000e+00, 1.000e+00, 1.000e+00, 0.000e+00, 1.000e+00, 0.000e+00,\n",
       "        1.000e+00, 0.000e+00, 0.000e+00, 0.000e+00, 0.000e+00, 0.000e+00,\n",
       "        1.000e+00, 0.000e+00, 1.000e+00, 0.000e+00, 0.000e+00, 1.000e+00,\n",
       "        0.000e+00, 0.000e+00, 0.000e+00, 1.000e+00]),\n",
       " array([  1.        ,  10.79411765,  20.58823529,  30.38235294,\n",
       "         40.17647059,  49.97058824,  59.76470588,  69.55882353,\n",
       "         79.35294118,  89.14705882,  98.94117647, 108.73529412,\n",
       "        118.52941176, 128.32352941, 138.11764706, 147.91176471,\n",
       "        157.70588235, 167.5       , 177.29411765, 187.08823529,\n",
       "        196.88235294, 206.67647059, 216.47058824, 226.26470588,\n",
       "        236.05882353, 245.85294118, 255.64705882, 265.44117647,\n",
       "        275.23529412, 285.02941176, 294.82352941, 304.61764706,\n",
       "        314.41176471, 324.20588235, 334.        ]),\n",
       " <BarContainer object of 34 artists>)"
      ]
     },
     "execution_count": 154,
     "metadata": {},
     "output_type": "execute_result"
    },
    {
     "data": {
      "image/png": "[encoded data removed]",
      "text/plain": [
       "<Figure size 432x288 with 1 Axes>"
      ]
     },
     "metadata": {
      "needs_background": "light"
     },
     "output_type": "display_data"
    }
   ],
   "source": [
    "plt.hist(fdist_pos.values(), bins='rice')"
   ]
  },
  {
   "cell_type": "code",
   "execution_count": null,
   "metadata": {},
   "outputs": [],
   "source": []
  }
 ],
 "metadata": {
  "kernelspec": {
   "display_name": "Python 3",
   "language": "python",
   "name": "python3"
  },
  "language_info": {
   "codemirror_mode": {
    "name": "ipython",
    "version": 3
   },
   "file_extension": ".py",
   "mimetype": "text/x-python",
   "name": "python",
   "nbconvert_exporter": "python",
   "pygments_lexer": "ipython3",
   "version": "3.7.4"
  }
 },
 "nbformat": 4,
 "nbformat_minor": 4
}
